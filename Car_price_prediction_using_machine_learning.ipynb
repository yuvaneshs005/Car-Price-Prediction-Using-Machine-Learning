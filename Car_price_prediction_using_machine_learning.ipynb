{
  "cells": [
    {
      "cell_type": "markdown",
      "metadata": {
        "id": "view-in-github",
        "colab_type": "text"
      },
      "source": [
        "<a href=\"https://colab.research.google.com/github/yuvaneshs005/Car-Price-Prediction-Using-Machine-Learning/blob/main/Car_price_prediction_using_machine_learning.ipynb\" target=\"_parent\"><img src=\"https://colab.research.google.com/assets/colab-badge.svg\" alt=\"Open In Colab\"/></a>"
      ]
    },
    {
      "cell_type": "markdown",
      "id": "a2145915",
      "metadata": {
        "id": "a2145915"
      },
      "source": [
        "# 🚘 Car Price Prediction - Cleaned & Enhanced Notebook"
      ]
    },
    {
      "cell_type": "code",
      "execution_count": 1,
      "id": "c9926303",
      "metadata": {
        "id": "c9926303"
      },
      "outputs": [],
      "source": [
        "# 📦 Import Libraries\n",
        "import pandas as pd\n",
        "import matplotlib.pyplot as plt\n",
        "import seaborn as sns\n",
        "from sklearn.model_selection import train_test_split, cross_val_score, GridSearchCV\n",
        "from sklearn.linear_model import LinearRegression, Lasso\n",
        "from sklearn.ensemble import RandomForestRegressor\n",
        "from sklearn import metrics\n"
      ]
    },
    {
      "cell_type": "code",
      "execution_count": 2,
      "id": "e0693463",
      "metadata": {
        "id": "e0693463"
      },
      "outputs": [],
      "source": [
        "# 📁 Load the dataset\n",
        "car_dataset = pd.read_csv('/content/car data.csv')"
      ]
    },
    {
      "cell_type": "code",
      "execution_count": 3,
      "id": "cb178757",
      "metadata": {
        "colab": {
          "base_uri": "https://localhost:8080/",
          "height": 0
        },
        "id": "cb178757",
        "outputId": "dd286053-200e-46d4-f1fd-6f6d477d29de"
      },
      "outputs": [
        {
          "output_type": "stream",
          "name": "stdout",
          "text": [
            "(301, 9)\n",
            "<class 'pandas.core.frame.DataFrame'>\n",
            "RangeIndex: 301 entries, 0 to 300\n",
            "Data columns (total 9 columns):\n",
            " #   Column         Non-Null Count  Dtype  \n",
            "---  ------         --------------  -----  \n",
            " 0   Car_Name       301 non-null    object \n",
            " 1   Year           301 non-null    int64  \n",
            " 2   Selling_Price  301 non-null    float64\n",
            " 3   Present_Price  301 non-null    float64\n",
            " 4   Kms_Driven     301 non-null    int64  \n",
            " 5   Fuel_Type      301 non-null    object \n",
            " 6   Seller_Type    301 non-null    object \n",
            " 7   Transmission   301 non-null    object \n",
            " 8   Owner          301 non-null    int64  \n",
            "dtypes: float64(2), int64(3), object(4)\n",
            "memory usage: 21.3+ KB\n",
            "None\n",
            "Car_Name         0\n",
            "Year             0\n",
            "Selling_Price    0\n",
            "Present_Price    0\n",
            "Kms_Driven       0\n",
            "Fuel_Type        0\n",
            "Seller_Type      0\n",
            "Transmission     0\n",
            "Owner            0\n",
            "dtype: int64\n"
          ]
        }
      ],
      "source": [
        "# 📊 Dataset Overview\n",
        "print(car_dataset.shape)\n",
        "print(car_dataset.info())\n",
        "print(car_dataset.isnull().sum())"
      ]
    },
    {
      "cell_type": "code",
      "execution_count": 4,
      "id": "adb445cc",
      "metadata": {
        "colab": {
          "base_uri": "https://localhost:8080/",
          "height": 0
        },
        "id": "adb445cc",
        "outputId": "75fc625c-1013-4e45-bbb3-a3564b0c8220"
      },
      "outputs": [
        {
          "output_type": "stream",
          "name": "stdout",
          "text": [
            "Fuel_Type\n",
            "Petrol    239\n",
            "Diesel     60\n",
            "CNG         2\n",
            "Name: count, dtype: int64\n",
            "Seller_Type\n",
            "Dealer        195\n",
            "Individual    106\n",
            "Name: count, dtype: int64\n",
            "Transmission\n",
            "Manual       261\n",
            "Automatic     40\n",
            "Name: count, dtype: int64\n"
          ]
        }
      ],
      "source": [
        "# 🔍 Categorical Data Distribution\n",
        "print(car_dataset['Fuel_Type'].value_counts())\n",
        "print(car_dataset['Seller_Type'].value_counts())\n",
        "print(car_dataset['Transmission'].value_counts())"
      ]
    },
    {
      "cell_type": "code",
      "execution_count": 5,
      "id": "08526954",
      "metadata": {
        "colab": {
          "base_uri": "https://localhost:8080/",
          "height": 0
        },
        "id": "08526954",
        "outputId": "f3e92ed7-1536-42c9-b0dd-a6db5d9e8cdf"
      },
      "outputs": [
        {
          "output_type": "stream",
          "name": "stderr",
          "text": [
            "<ipython-input-5-00536de5381e>:2: FutureWarning: Downcasting behavior in `replace` is deprecated and will be removed in a future version. To retain the old behavior, explicitly call `result.infer_objects(copy=False)`. To opt-in to the future behavior, set `pd.set_option('future.no_silent_downcasting', True)`\n",
            "  car_dataset.replace({'Fuel_Type': {'Petrol': 0, 'Diesel': 1, 'CNG': 2}}, inplace=True)\n",
            "<ipython-input-5-00536de5381e>:3: FutureWarning: Downcasting behavior in `replace` is deprecated and will be removed in a future version. To retain the old behavior, explicitly call `result.infer_objects(copy=False)`. To opt-in to the future behavior, set `pd.set_option('future.no_silent_downcasting', True)`\n",
            "  car_dataset.replace({'Seller_Type': {'Dealer': 0, 'Individual': 1}}, inplace=True)\n",
            "<ipython-input-5-00536de5381e>:4: FutureWarning: Downcasting behavior in `replace` is deprecated and will be removed in a future version. To retain the old behavior, explicitly call `result.infer_objects(copy=False)`. To opt-in to the future behavior, set `pd.set_option('future.no_silent_downcasting', True)`\n",
            "  car_dataset.replace({'Transmission': {'Manual': 0, 'Automatic': 1}}, inplace=True)\n"
          ]
        }
      ],
      "source": [
        "# 🔄 Encoding Categorical Columns\n",
        "car_dataset.replace({'Fuel_Type': {'Petrol': 0, 'Diesel': 1, 'CNG': 2}}, inplace=True)\n",
        "car_dataset.replace({'Seller_Type': {'Dealer': 0, 'Individual': 1}}, inplace=True)\n",
        "car_dataset.replace({'Transmission': {'Manual': 0, 'Automatic': 1}}, inplace=True)"
      ]
    },
    {
      "cell_type": "code",
      "execution_count": 6,
      "id": "22aa850a",
      "metadata": {
        "id": "22aa850a"
      },
      "outputs": [],
      "source": [
        "# 🧮 Splitting Features and Target\n",
        "X = car_dataset.drop(['Car_Name', 'Selling_Price'], axis=1)\n",
        "Y = car_dataset['Selling_Price']\n",
        "\n",
        "# ✂️ Train-Test Split\n",
        "X_train, X_test, Y_train, Y_test = train_test_split(X, Y, test_size=0.1, random_state=2)"
      ]
    },
    {
      "cell_type": "markdown",
      "id": "a89af16b",
      "metadata": {
        "id": "a89af16b"
      },
      "source": [
        "## 🔢 Linear Regression"
      ]
    },
    {
      "cell_type": "code",
      "execution_count": 7,
      "id": "1587297b",
      "metadata": {
        "colab": {
          "base_uri": "https://localhost:8080/",
          "height": 507
        },
        "id": "1587297b",
        "outputId": "d56230c9-62b1-44e6-dd62-b6b1595d9ea8"
      },
      "outputs": [
        {
          "output_type": "stream",
          "name": "stdout",
          "text": [
            "Linear Regression R² (Train): 0.8799451660493711\n",
            "Linear Regression R² (Test): 0.8365766715027051\n"
          ]
        },
        {
          "output_type": "display_data",
          "data": {
            "text/plain": [
              "<Figure size 640x480 with 1 Axes>"
            ],
            "image/png": "[encoded data removed]"
          },
          "metadata": {}
        }
      ],
      "source": [
        "lin_reg_model = LinearRegression()\n",
        "lin_reg_model.fit(X_train, Y_train)\n",
        "\n",
        "train_pred_lr = lin_reg_model.predict(X_train)\n",
        "test_pred_lr = lin_reg_model.predict(X_test)\n",
        "\n",
        "print(\"Linear Regression R² (Train):\", metrics.r2_score(Y_train, train_pred_lr))\n",
        "print(\"Linear Regression R² (Test):\", metrics.r2_score(Y_test, test_pred_lr))\n",
        "\n",
        "plt.scatter(Y_test, test_pred_lr)\n",
        "plt.xlabel(\"Actual Price\")\n",
        "plt.ylabel(\"Predicted Price\")\n",
        "plt.title(\"Linear Regression - Actual vs Predicted\")\n",
        "plt.show()"
      ]
    },
    {
      "cell_type": "markdown",
      "id": "d7347d3e",
      "metadata": {
        "id": "d7347d3e"
      },
      "source": [
        "## 🔢 Lasso Regression"
      ]
    },
    {
      "cell_type": "code",
      "execution_count": 8,
      "id": "a43e6577",
      "metadata": {
        "colab": {
          "base_uri": "https://localhost:8080/",
          "height": 507
        },
        "id": "a43e6577",
        "outputId": "358d1898-6cdb-408a-c364-6e176db74240"
      },
      "outputs": [
        {
          "output_type": "stream",
          "name": "stdout",
          "text": [
            "Lasso Regression R² (Train): 0.8427856123435794\n",
            "Lasso Regression R² (Test): 0.8709167941173195\n"
          ]
        },
        {
          "output_type": "display_data",
          "data": {
            "text/plain": [
              "<Figure size 640x480 with 1 Axes>"
            ],
            "image/png": "[encoded data removed]"
          },
          "metadata": {}
        }
      ],
      "source": [
        "lasso_model = Lasso()\n",
        "lasso_model.fit(X_train, Y_train)\n",
        "\n",
        "train_pred_lasso = lasso_model.predict(X_train)\n",
        "test_pred_lasso = lasso_model.predict(X_test)\n",
        "\n",
        "print(\"Lasso Regression R² (Train):\", metrics.r2_score(Y_train, train_pred_lasso))\n",
        "print(\"Lasso Regression R² (Test):\", metrics.r2_score(Y_test, test_pred_lasso))\n",
        "\n",
        "plt.scatter(Y_test, test_pred_lasso)\n",
        "plt.xlabel(\"Actual Price\")\n",
        "plt.ylabel(\"Predicted Price\")\n",
        "plt.title(\"Lasso Regression - Actual vs Predicted\")\n",
        "plt.show()"
      ]
    },
    {
      "cell_type": "markdown",
      "id": "42ea759f",
      "metadata": {
        "id": "42ea759f"
      },
      "source": [
        "## 🌲 Random Forest with Cross-Validation & Hyperparameter Tuning"
      ]
    },
    {
      "cell_type": "code",
      "execution_count": 9,
      "id": "87388c2b",
      "metadata": {
        "colab": {
          "base_uri": "https://localhost:8080/",
          "height": 0
        },
        "id": "87388c2b",
        "outputId": "0417a7e5-b4cc-409d-8baf-5605bc7c58de"
      },
      "outputs": [
        {
          "output_type": "stream",
          "name": "stdout",
          "text": [
            "CV R² Scores: [0.94627703 0.88043631 0.9477774  0.84042433 0.96658113]\n",
            "Mean CV R²: 0.9162992390432902\n"
          ]
        }
      ],
      "source": [
        "# Baseline model and cross-validation\n",
        "rf = RandomForestRegressor(random_state=42)\n",
        "cv_scores = cross_val_score(rf, X_train, Y_train, cv=5, scoring='r2')\n",
        "print(\"CV R² Scores:\", cv_scores)\n",
        "print(\"Mean CV R²:\", cv_scores.mean())"
      ]
    },
    {
      "cell_type": "code",
      "execution_count": 10,
      "id": "295ace9b",
      "metadata": {
        "colab": {
          "base_uri": "https://localhost:8080/",
          "height": 0
        },
        "id": "295ace9b",
        "outputId": "b8f59b8b-4e39-407a-941e-e9941b3f57a2"
      },
      "outputs": [
        {
          "output_type": "stream",
          "name": "stdout",
          "text": [
            "Fitting 5 folds for each of 24 candidates, totalling 120 fits\n",
            "Best Parameters: {'max_depth': None, 'min_samples_leaf': 1, 'min_samples_split': 2, 'n_estimators': 200}\n",
            "Best Cross-Validation R² Score: 0.9163640445961974\n"
          ]
        }
      ],
      "source": [
        "# Hyperparameter tuning\n",
        "param_grid = {\n",
        "    'n_estimators': [100, 200],\n",
        "    'max_depth': [None, 10, 20],\n",
        "    'min_samples_split': [2, 5],\n",
        "    'min_samples_leaf': [1, 2],\n",
        "}\n",
        "\n",
        "grid_search = GridSearchCV(estimator=rf,\n",
        "                           param_grid=param_grid,\n",
        "                           cv=5,\n",
        "                           scoring='r2',\n",
        "                           n_jobs=-1,\n",
        "                           verbose=2)\n",
        "\n",
        "grid_search.fit(X_train, Y_train)\n",
        "\n",
        "print(\"Best Parameters:\", grid_search.best_params_)\n",
        "print(\"Best Cross-Validation R² Score:\", grid_search.best_score_)"
      ]
    },
    {
      "cell_type": "code",
      "execution_count": 17,
      "id": "2c2eccdc",
      "metadata": {
        "colab": {
          "base_uri": "https://localhost:8080/",
          "height": 507
        },
        "id": "2c2eccdc",
        "outputId": "602cd736-ae77-4a58-ce80-9cb09ecc0c7e"
      },
      "outputs": [
        {
          "output_type": "stream",
          "name": "stdout",
          "text": [
            "Random Forest R² (Test): 0.979590817821835\n",
            "Random Forest RMSE: 0.5181889247113917\n"
          ]
        },
        {
          "output_type": "display_data",
          "data": {
            "text/plain": [
              "<Figure size 640x480 with 1 Axes>"
            ],
            "image/png": "[encoded data removed]"
          },
          "metadata": {}
        }
      ],
      "source": [
        "# Evaluate on test set\n",
        "# Evaluate on test set\n",
        "best_rf = grid_search.best_estimator_\n",
        "y_pred_rf = best_rf.predict(X_test)\n",
        "\n",
        "print(\"Random Forest R² (Test):\", metrics.r2_score(Y_test, y_pred_rf))\n",
        "\n",
        "# Manually calculate RMSE for compatibility\n",
        "import numpy as np\n",
        "mse = metrics.mean_squared_error(Y_test, y_pred_rf)\n",
        "rmse = np.sqrt(mse)\n",
        "print(\"Random Forest RMSE:\", rmse)\n",
        "\n",
        "# Plotting predictions vs actual\n",
        "plt.scatter(Y_test, y_pred_rf)\n",
        "plt.xlabel(\"Actual Price\")\n",
        "plt.ylabel(\"Predicted Price\")\n",
        "plt.title(\"Random Forest - Actual vs Predicted\")\n",
        "plt.show()\n"
      ]
    }
  ],
  "metadata": {
    "colab": {
      "provenance": [],
      "include_colab_link": true
    },
    "language_info": {
      "name": "python"
    },
    "kernelspec": {
      "name": "python3",
      "display_name": "Python 3"
    }
  },
  "nbformat": 4,
  "nbformat_minor": 5
}